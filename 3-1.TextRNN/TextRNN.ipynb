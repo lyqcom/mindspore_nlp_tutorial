{
 "cells": [
  {
   "cell_type": "code",
   "execution_count": 3,
   "id": "conditional-growing",
   "metadata": {},
   "outputs": [],
   "source": [
    "import math\n",
    "import mindspore\n",
    "import numpy as np\n",
    "import mindspore.nn as nn\n",
    "import mindspore.ops as ops\n",
    "from mindspore import Tensor, Parameter, ms_function"
   ]
  },
  {
   "cell_type": "markdown",
   "id": "wanted-black",
   "metadata": {},
   "source": [
    "TextRNN Model:"
   ]
  },
  {
   "cell_type": "code",
   "execution_count": 4,
   "id": "superb-decrease",
   "metadata": {},
   "outputs": [],
   "source": [
    "def make_batch(sentences, word_dict, n_class):\n",
    "    input_batch = []\n",
    "    target_batch = []\n",
    "\n",
    "    for sen in sentences:\n",
    "        word = sen.split()  # space tokenizer\n",
    "        input = [word_dict[n] for n in word[:-1]]  # create (1~n-1) as input\n",
    "        target = word_dict[word[-1]]  # create (n) as target, We usually call this 'casual language model'\n",
    "\n",
    "        input_batch.append(np.eye(n_class)[input])\n",
    "        target_batch.append(target)\n",
    "\n",
    "    return input_batch, target_batch"
   ]
  },
  {
   "cell_type": "code",
   "execution_count": 5,
   "id": "suitable-receiver",
   "metadata": {},
   "outputs": [],
   "source": [
    "class TextRNN(nn.Cell):\n",
    "    def __init__(self, n_class, n_hidden, batch_size):\n",
    "        super(TextRNN, self).__init__()\n",
    "        self.rnn = nn.RNN(input_size=n_class, hidden_size=n_hidden, batch_first=True)\n",
    "        self.W = nn.Dense(n_hidden, n_class, has_bias=False)\n",
    "        self.b = Parameter(Tensor(np.ones([n_class]), mindspore.float32), 'b')\n",
    "\n",
    "    def construct(self, X):\n",
    "        X = X.swapaxes(0, 1) # X : [n_step, batch_size, n_class]\n",
    "        outputs, _ = self.rnn(X)\n",
    "        # outputs : [n_step, batch_size, num_directions(=1) * n_hidden]\n",
    "        outputs = outputs[-1] # [batch_size, num_directions(=1) * n_hidden]\n",
    "        model = self.W(outputs)# model : [batch_size, n_class]\n",
    "        \n",
    "        return model"
   ]
  },
  {
   "cell_type": "code",
   "execution_count": 6,
   "id": "greenhouse-state",
   "metadata": {},
   "outputs": [],
   "source": [
    "n_step = 2 # number of cells(= number of Step)\n",
    "n_hidden = 5 # number of hidden units in one cell\n",
    "\n",
    "sentences = [\"i like dog\", \"i love coffee\", \"i hate milk\"]\n",
    "\n",
    "word_list = \" \".join(sentences).split()\n",
    "word_list = list(set(word_list))\n",
    "word_dict = {w: i for i, w in enumerate(word_list)}\n",
    "number_dict = {i: w for i, w in enumerate(word_list)}\n",
    "n_class = len(word_dict)\n",
    "batch_size = len(sentences)"
   ]
  },
  {
   "cell_type": "code",
   "execution_count": 7,
   "id": "quantitative-superintendent",
   "metadata": {},
   "outputs": [],
   "source": [
    "model = TextRNN(n_class, n_hidden, batch_size)"
   ]
  },
  {
   "cell_type": "code",
   "execution_count": 8,
   "id": "enabling-shore",
   "metadata": {},
   "outputs": [],
   "source": [
    "criterion = nn.CrossEntropyLoss()\n",
    "optimizer = nn.Adam(model.trainable_params(), learning_rate=0.001)"
   ]
  },
  {
   "cell_type": "code",
   "execution_count": 9,
   "id": "afraid-pharmacology",
   "metadata": {},
   "outputs": [],
   "source": [
    "input_batch, target_batch = make_batch(sentences, word_dict, n_class)\n",
    "input_batch = Tensor(input_batch, mindspore.float32)\n",
    "target_batch = Tensor(target_batch, mindspore.int32)"
   ]
  },
  {
   "cell_type": "code",
   "execution_count": 10,
   "id": "e443bf76",
   "metadata": {},
   "outputs": [],
   "source": [
    "def forward(inputs, targets):\n",
    "    logits = model(inputs)\n",
    "    loss = criterion(logits, targets)\n",
    "    return loss"
   ]
  },
  {
   "cell_type": "code",
   "execution_count": 11,
   "id": "8d489907",
   "metadata": {},
   "outputs": [],
   "source": [
    "grad_fn = ops.value_and_grad(forward, None, optimizer.parameters)"
   ]
  },
  {
   "cell_type": "code",
   "execution_count": 12,
   "id": "9dd3d835",
   "metadata": {},
   "outputs": [],
   "source": [
    "@ms_function\n",
    "def train_step(inputs, targets):\n",
    "    loss, grads = grad_fn(inputs, targets)\n",
    "    optimizer(grads)\n",
    "    return loss"
   ]
  },
  {
   "cell_type": "code",
   "execution_count": 13,
   "id": "banner-backup",
   "metadata": {},
   "outputs": [
    {
     "name": "stdout",
     "output_type": "stream",
     "text": [
      "Epoch: 1000 cost = 0.141270\n",
      "Epoch: 2000 cost = 0.025611\n",
      "Epoch: 3000 cost = 0.010544\n",
      "Epoch: 4000 cost = 0.005329\n",
      "Epoch: 5000 cost = 0.002940\n"
     ]
    }
   ],
   "source": [
    "model.set_train()\n",
    "\n",
    "# Training\n",
    "for epoch in range(5000):\n",
    "    # hidden : [num_layers * num_directions, batch, hidden_size]\n",
    "    loss = train_step(input_batch, target_batch)\n",
    "    if (epoch + 1) % 1000 == 0:\n",
    "        print('Epoch:', '%04d' % (epoch + 1), 'cost =', '{:.6f}'.format(loss.asnumpy()))"
   ]
  },
  {
   "cell_type": "code",
   "execution_count": 14,
   "id": "established-solid",
   "metadata": {},
   "outputs": [
    {
     "name": "stdout",
     "output_type": "stream",
     "text": [
      "[['i', 'like'], ['i', 'love'], ['i', 'hate']] -> ['dog', 'coffee', 'milk']\n"
     ]
    }
   ],
   "source": [
    "# Predict\n",
    "predict = model(input_batch).asnumpy().argmax(1)\n",
    "print([sen.split()[:2] for sen in sentences], '->', [number_dict[n.item()] for n in predict.squeeze()])"
   ]
  }
 ],
 "metadata": {
  "kernelspec": {
   "display_name": "Python 3.7.13 ('ms1.8')",
   "language": "python",
   "name": "python3"
  },
  "language_info": {
   "codemirror_mode": {
    "name": "ipython",
    "version": 3
   },
   "file_extension": ".py",
   "mimetype": "text/x-python",
   "name": "python",
   "nbconvert_exporter": "python",
   "pygments_lexer": "ipython3",
   "version": "3.7.13"
  },
  "vscode": {
   "interpreter": {
    "hash": "bd0943702584cdb580f8947884f31a9fb49482f77f8c89ed6532de3aa180e7ba"
   }
  }
 },
 "nbformat": 4,
 "nbformat_minor": 5
}
