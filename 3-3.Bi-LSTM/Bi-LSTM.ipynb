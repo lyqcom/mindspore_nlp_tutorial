{
 "cells": [
  {
   "cell_type": "code",
   "execution_count": 1,
   "id": "handled-script",
   "metadata": {},
   "outputs": [],
   "source": [
    "import numpy as np\n",
    "import mindspore\n",
    "import mindspore.nn as nn\n",
    "import mindspore.ops as ops\n",
    "from mindspore import Parameter, Tensor, ms_function"
   ]
  },
  {
   "cell_type": "code",
   "execution_count": 2,
   "id": "worthy-samba",
   "metadata": {},
   "outputs": [],
   "source": [
    "def make_batch(sentence, word_dict, n_class, max_len):\n",
    "    input_batch = []\n",
    "    target_batch = []\n",
    "\n",
    "    words = sentence.split()\n",
    "    for i, word in enumerate(words[:-1]):\n",
    "        input = [word_dict[n] for n in words[:(i + 1)]]\n",
    "        input = input + [0] * (max_len - len(input))\n",
    "        target = word_dict[words[i + 1]]\n",
    "        input_batch.append(np.eye(n_class)[input])\n",
    "        target_batch.append(target)\n",
    "\n",
    "    return input_batch, target_batch"
   ]
  },
  {
   "cell_type": "code",
   "execution_count": 3,
   "id": "religious-portland",
   "metadata": {},
   "outputs": [],
   "source": [
    "class BiLSTM(nn.Cell):\n",
    "    def __init__(self, n_class, n_hidden, batch_size):\n",
    "        super().__init__()\n",
    "        self.lstm = nn.LSTM(input_size=n_class, hidden_size=n_hidden, bidirectional=True)\n",
    "        self.W = nn.Dense(n_hidden * 2, n_class, has_bias=False)\n",
    "        self.b = Parameter(Tensor(np.ones([n_class], dtype=np.float32), mindspore.float32), 'b')\n",
    "\n",
    "    def construct(self, X):\n",
    "        input = X.transpose((1, 0, 2))\n",
    "        output, (_, _) = self.lstm(input)\n",
    "        outputs = output[-1]\n",
    "        model = self.W(outputs) + self.b\n",
    "        \n",
    "        return model"
   ]
  },
  {
   "cell_type": "code",
   "execution_count": 4,
   "id": "imposed-waters",
   "metadata": {},
   "outputs": [],
   "source": [
    "n_hidden = 5 # number of hidden units in one cell\n",
    "\n",
    "sentence = (\n",
    "    'Lorem ipsum dolor sit amet consectetur adipisicing elit '\n",
    "    'sed do eiusmod tempor incididunt ut labore et dolore magna '\n",
    "    'aliqua Ut enim ad minim veniam quis nostrud exercitation'\n",
    ")\n",
    "\n",
    "word_dict = {w: i for i, w in enumerate(list(set(sentence.split())))}\n",
    "number_dict = {i: w for i, w in enumerate(list(set(sentence.split())))}\n",
    "n_class = len(word_dict)\n",
    "max_len = len(sentence.split())\n",
    "vocab_size = len(word_dict)"
   ]
  },
  {
   "cell_type": "code",
   "execution_count": 5,
   "id": "generic-vessel",
   "metadata": {},
   "outputs": [
    {
     "name": "stdout",
     "output_type": "stream",
     "text": [
      "(26, 27, 27) (26,)\n"
     ]
    }
   ],
   "source": [
    "input_batch, target_batch = make_batch(sentence, word_dict, n_class, max_len)\n",
    "# print(input_batch, target_batch)\n",
    "input_batch = Tensor(input_batch, mindspore.float32)\n",
    "target_batch = Tensor(target_batch, mindspore.int32)\n",
    "print(input_batch.shape, target_batch.shape)\n",
    "\n",
    "batch_size = len(input_batch)"
   ]
  },
  {
   "cell_type": "code",
   "execution_count": 6,
   "id": "random-entertainment",
   "metadata": {},
   "outputs": [],
   "source": [
    "model = BiLSTM(n_class, n_hidden, batch_size)"
   ]
  },
  {
   "cell_type": "code",
   "execution_count": 7,
   "id": "southwest-baltimore",
   "metadata": {},
   "outputs": [],
   "source": [
    "criterion = nn.CrossEntropyLoss()\n",
    "optimizer = nn.Adam(model.trainable_params(), learning_rate=0.001)"
   ]
  },
  {
   "cell_type": "code",
   "execution_count": 8,
   "id": "conventional-munich",
   "metadata": {},
   "outputs": [],
   "source": [
    "def forward(inputs, targets):\n",
    "    logits = model(inputs)\n",
    "    loss = criterion(logits, targets)\n",
    "    return loss"
   ]
  },
  {
   "cell_type": "code",
   "execution_count": 9,
   "id": "b9633c3c",
   "metadata": {},
   "outputs": [],
   "source": [
    "grad_fn = ops.value_and_grad(forward, None, optimizer.parameters)"
   ]
  },
  {
   "cell_type": "code",
   "execution_count": 10,
   "id": "9b5a2242",
   "metadata": {},
   "outputs": [],
   "source": [
    "@ms_function\n",
    "def train_step(inputs, targets):\n",
    "    loss, grads = grad_fn(inputs, targets)\n",
    "    optimizer(grads)\n",
    "    return loss"
   ]
  },
  {
   "cell_type": "code",
   "execution_count": 11,
   "id": "accredited-manual",
   "metadata": {},
   "outputs": [
    {
     "name": "stdout",
     "output_type": "stream",
     "text": [
      "Epoch: 1000 cost =  2.585795\n",
      "Epoch: 2000 cost =  2.581421\n",
      "Epoch: 3000 cost =  2.569982\n",
      "Epoch: 4000 cost =  2.311544\n",
      "Epoch: 5000 cost =  1.974983\n",
      "Epoch: 6000 cost =  1.053331\n",
      "Epoch: 7000 cost =  0.681154\n",
      "Epoch: 8000 cost =  0.568491\n",
      "Epoch: 9000 cost =  0.448840\n",
      "Epoch: 10000 cost =  0.375638\n"
     ]
    }
   ],
   "source": [
    "model.set_train()\n",
    "\n",
    "epoch = 10000\n",
    "for step in range(epoch):\n",
    "    loss = train_step(input_batch, target_batch)\n",
    "    if (step + 1) % 1000 == 0:\n",
    "        print('Epoch:', '%04d' % (step + 1), 'cost = ', '{:.6f}'.format(loss.asnumpy()))"
   ]
  },
  {
   "cell_type": "code",
   "execution_count": 12,
   "id": "revised-description",
   "metadata": {},
   "outputs": [
    {
     "name": "stdout",
     "output_type": "stream",
     "text": [
      "Lorem ipsum dolor sit amet consectetur adipisicing elit sed do eiusmod tempor incididunt ut labore et dolore magna aliqua Ut enim ad minim veniam quis nostrud exercitation\n",
      "['dolor', 'dolor', 'sit', 'amet', 'consectetur', 'adipisicing', 'elit', 'sed', 'sed', 'eiusmod', 'tempor', 'incididunt', 'ut', 'labore', 'et', 'dolore', 'magna', 'aliqua', 'ad', 'ad', 'ad', 'minim', 'veniam', 'quis', 'nostrud', 'exercitation']\n"
     ]
    }
   ],
   "source": [
    "model.set_train(False)\n",
    "predict = model(input_batch).asnumpy().argmax(axis=1)\n",
    "print(sentence)\n",
    "print([number_dict[n.item()] for n in predict.squeeze()])"
   ]
  }
 ],
 "metadata": {
  "kernelspec": {
   "display_name": "Python 3.7.13 ('ms1.8')",
   "language": "python",
   "name": "python3"
  },
  "language_info": {
   "codemirror_mode": {
    "name": "ipython",
    "version": 3
   },
   "file_extension": ".py",
   "mimetype": "text/x-python",
   "name": "python",
   "nbconvert_exporter": "python",
   "pygments_lexer": "ipython3",
   "version": "3.7.13"
  },
  "vscode": {
   "interpreter": {
    "hash": "bd0943702584cdb580f8947884f31a9fb49482f77f8c89ed6532de3aa180e7ba"
   }
  }
 },
 "nbformat": 4,
 "nbformat_minor": 5
}
