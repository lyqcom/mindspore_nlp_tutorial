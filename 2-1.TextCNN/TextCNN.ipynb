{
 "cells": [
  {
   "cell_type": "code",
   "execution_count": 11,
   "id": "confidential-attendance",
   "metadata": {},
   "outputs": [],
   "source": [
    "import numpy as np\n",
    "import mindspore\n",
    "import mindspore.nn as nn\n",
    "import mindspore.ops as ops\n",
    "from mindspore import Parameter, Tensor, ms_function"
   ]
  },
  {
   "cell_type": "code",
   "execution_count": 12,
   "id": "promotional-smart",
   "metadata": {},
   "outputs": [],
   "source": [
    "class TextCNN(nn.Cell):\n",
    "    def __init__(self, embedding_size, sequence_length, num_classes, filter_sizes, num_filters, vocab_size):\n",
    "        super(TextCNN, self).__init__()\n",
    "        self.num_filters_total = num_filters * len(filter_sizes)\n",
    "        self.filter_sizes = filter_sizes\n",
    "        self.sequence_length = sequence_length\n",
    "        self.W = nn.Embedding(vocab_size, embedding_size)\n",
    "        self.Weight = nn.Dense(self.num_filters_total, num_classes, has_bias=False)\n",
    "        self.Bias = Parameter(Tensor(np.ones(num_classes), mindspore.float32), name='bias')\n",
    "        self.filter_list = nn.CellList()\n",
    "        for size in filter_sizes:\n",
    "            seq_cell = nn.SequentialCell([\n",
    "                nn.Conv2d(1, num_filters, (size, embedding_size), pad_mode='valid'),\n",
    "                nn.ReLU(),\n",
    "                nn.MaxPool2d(kernel_size=(sequence_length - size + 1, 1))\n",
    "            ])\n",
    "            self.filter_list.append(seq_cell)\n",
    "\n",
    "    def construct(self, X):\n",
    "        embedded_chars = self.W(X)\n",
    "        embedded_chars = embedded_chars.expand_dims(1)\n",
    "        pooled_outputs = []\n",
    "        for conv in self.filter_list:\n",
    "            pooled = conv(embedded_chars)\n",
    "            pooled = pooled.transpose((0, 3, 2, 1))\n",
    "            pooled_outputs.append(pooled)\n",
    "            \n",
    "        h_pool = ops.concat(pooled_outputs, len(self.filter_sizes))\n",
    "        h_pool_flat = h_pool.view(-1, self.num_filters_total)\n",
    "        model = self.Weight(h_pool_flat) + self.Bias\n",
    "        return model"
   ]
  },
  {
   "cell_type": "code",
   "execution_count": 13,
   "id": "prime-lindsay",
   "metadata": {},
   "outputs": [],
   "source": [
    "\n",
    "embedding_size = 2\n",
    "sequence_length = 3\n",
    "num_classes = 2\n",
    "filter_sizes = [2, 2, 2]\n",
    "num_filters = 3\n",
    "\n",
    "sentences = [\"i love you\", \"he loves me\", \"she likes baseball\", \" i hate you\", \"sorry for that\", \"this is awful\"]\n",
    "labels = [1, 1, 1, 0, 0, 0]  # 1 is good, 0 is not good.\n",
    "\n",
    "word_list = \" \".join(sentences).split()\n",
    "word_list = list(set(word_list))\n",
    "word_dict = {w: i for i, w in enumerate(word_list)}\n",
    "vocab_size = len(word_dict)\n",
    "\n",
    "model = TextCNN(embedding_size, sequence_length, num_classes, filter_sizes, num_filters, vocab_size)"
   ]
  },
  {
   "cell_type": "code",
   "execution_count": 14,
   "id": "gorgeous-weekly",
   "metadata": {},
   "outputs": [],
   "source": [
    "criterion = nn.CrossEntropyLoss()\n",
    "optimizer = nn.Adam(model.trainable_params(), learning_rate=0.001)"
   ]
  },
  {
   "cell_type": "code",
   "execution_count": 15,
   "id": "instructional-scheduling",
   "metadata": {},
   "outputs": [],
   "source": [
    "inputs = Tensor([np.asarray([word_dict[n] for n in sen.split()]) for sen in sentences], mindspore.int32)\n",
    "targets = Tensor([out for out in labels], mindspore.int32) "
   ]
  },
  {
   "cell_type": "code",
   "execution_count": 16,
   "id": "hundred-conclusion",
   "metadata": {},
   "outputs": [],
   "source": [
    "def forward(inputs, targets):\n",
    "    logits = model(inputs)\n",
    "    loss = criterion(logits, targets)\n",
    "    return loss"
   ]
  },
  {
   "cell_type": "code",
   "execution_count": 17,
   "id": "8bf68174",
   "metadata": {},
   "outputs": [],
   "source": [
    "grad_fn = ops.value_and_grad(forward, None, optimizer.parameters)"
   ]
  },
  {
   "cell_type": "code",
   "execution_count": 18,
   "id": "c4ee2913",
   "metadata": {},
   "outputs": [],
   "source": [
    "@ms_function\n",
    "def train_step(inputs, targets):\n",
    "    loss, grads = grad_fn(inputs, targets)\n",
    "    optimizer(grads)\n",
    "    return loss"
   ]
  },
  {
   "cell_type": "code",
   "execution_count": 19,
   "id": "interesting-worthy",
   "metadata": {},
   "outputs": [
    {
     "name": "stdout",
     "output_type": "stream",
     "text": [
      "Epoch: 1000 cost = 0.002617\n",
      "Epoch: 2000 cost = 0.000449\n",
      "Epoch: 3000 cost = 0.000152\n",
      "Epoch: 4000 cost = 0.000066\n",
      "Epoch: 5000 cost = 0.000031\n"
     ]
    }
   ],
   "source": [
    "model.set_train()\n",
    "\n",
    "epoch = 5000\n",
    "for step in range(epoch):\n",
    "    loss = train_step(inputs, targets)\n",
    "    \n",
    "    if (step + 1) % 1000 == 0:\n",
    "        print('Epoch:', '%04d' % (step + 1), 'cost =', '{:.6f}'.format(loss.asnumpy()))"
   ]
  },
  {
   "cell_type": "code",
   "execution_count": 20,
   "id": "decent-breakdown",
   "metadata": {},
   "outputs": [
    {
     "name": "stdout",
     "output_type": "stream",
     "text": [
      "sorry hate you is Bad Mean...\n"
     ]
    }
   ],
   "source": [
    "test_text = 'sorry hate you'\n",
    "tests = [np.asarray([word_dict[n] for n in test_text.split()])]\n",
    "test_batch = Tensor(tests, mindspore.int32)\n",
    "\n",
    "# Predict\n",
    "predict = model(test_batch).asnumpy().argmax(1)\n",
    "if predict[0] == 0:\n",
    "    print(test_text,\"is Bad Mean...\")\n",
    "else:\n",
    "    print(test_text,\"is Good Mean!!\")"
   ]
  }
 ],
 "metadata": {
  "kernelspec": {
   "display_name": "Python 3.7.13 ('ms1.8')",
   "language": "python",
   "name": "python3"
  },
  "language_info": {
   "codemirror_mode": {
    "name": "ipython",
    "version": 3
   },
   "file_extension": ".py",
   "mimetype": "text/x-python",
   "name": "python",
   "nbconvert_exporter": "python",
   "pygments_lexer": "ipython3",
   "version": "3.7.13"
  },
  "vscode": {
   "interpreter": {
    "hash": "bd0943702584cdb580f8947884f31a9fb49482f77f8c89ed6532de3aa180e7ba"
   }
  }
 },
 "nbformat": 4,
 "nbformat_minor": 5
}
