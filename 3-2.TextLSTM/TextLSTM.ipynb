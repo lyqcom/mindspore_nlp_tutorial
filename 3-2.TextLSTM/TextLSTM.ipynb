{
 "cells": [
  {
   "cell_type": "code",
   "execution_count": 1,
   "id": "dying-communications",
   "metadata": {},
   "outputs": [],
   "source": [
    "import numpy as np\n",
    "import mindspore\n",
    "import mindspore.nn as nn\n",
    "import mindspore.ops as ops\n",
    "from mindspore import Parameter, Tensor, ms_function"
   ]
  },
  {
   "cell_type": "code",
   "execution_count": 2,
   "id": "suited-southeast",
   "metadata": {},
   "outputs": [],
   "source": [
    "def make_batch(seq_data, word_dict,vocab_size):\n",
    "    input_batch, target_batch = [], []\n",
    "\n",
    "    for seq in seq_data:\n",
    "        input = [word_dict[n] for n in seq[:-1]] # 'm', 'a' , 'k' is input\n",
    "        target = word_dict[seq[-1]] # 'e' is target\n",
    "        input_batch.append(np.eye(vocab_size)[input])\n",
    "        target_batch.append(target)\n",
    "\n",
    "    return input_batch, target_batch"
   ]
  },
  {
   "cell_type": "code",
   "execution_count": 3,
   "id": "saving-print",
   "metadata": {},
   "outputs": [],
   "source": [
    "class TextLSTM(nn.Cell):\n",
    "    def __init__(self, batch_size, vocab_size, hidden_size):\n",
    "        super(TextLSTM,self).__init__()\n",
    "        self.lstm = nn.LSTM(input_size=vocab_size, hidden_size=hidden_size)\n",
    "        self.W = nn.Dense(hidden_size, vocab_size, has_bias=False)\n",
    "        self.b = Parameter(Tensor(np.ones(vocab_size), mindspore.float32), 'b')\n",
    "        \n",
    "        self.n_steps = n_steps\n",
    "\n",
    "    def construct(self, X):\n",
    "        input = X.transpose((1, 0, 2))  \n",
    "        outputs, (_, _) = self.lstm(input)\n",
    "        outputs = outputs[-1] \n",
    "        model = self.W(outputs) + self.b  \n",
    "        return model"
   ]
  },
  {
   "cell_type": "code",
   "execution_count": 4,
   "id": "changed-facial",
   "metadata": {},
   "outputs": [],
   "source": [
    "n_steps = 3 \n",
    "hidden_size = 128 \n",
    "\n",
    "char_arr = [c for c in 'abcdefghijklmnopqrstuvwxyz']\n",
    "word_dict = {n: i for i, n in enumerate(char_arr)}\n",
    "number_dict = {i: w for i, w in enumerate(char_arr)}\n",
    "vocab_size = len(word_dict)  \n",
    "\n",
    "seq_data = ['make', 'need', 'coal', 'word', 'love', 'hate', 'live', 'home', 'hash', 'star']"
   ]
  },
  {
   "cell_type": "code",
   "execution_count": 5,
   "id": "growing-stroke",
   "metadata": {},
   "outputs": [],
   "source": [
    "input_batch, target_batch = make_batch(seq_data, word_dict, vocab_size)\n",
    "input_batch = Tensor(input_batch, mindspore.float32)\n",
    "target_batch = Tensor(target_batch, mindspore.int32)"
   ]
  },
  {
   "cell_type": "code",
   "execution_count": 6,
   "id": "happy-medline",
   "metadata": {},
   "outputs": [],
   "source": [
    "batch_size = len(input_batch)"
   ]
  },
  {
   "cell_type": "code",
   "execution_count": 7,
   "id": "fancy-detroit",
   "metadata": {},
   "outputs": [],
   "source": [
    "model = TextLSTM(batch_size, vocab_size, hidden_size)"
   ]
  },
  {
   "cell_type": "code",
   "execution_count": 8,
   "id": "electronic-mirror",
   "metadata": {},
   "outputs": [],
   "source": [
    "criterion = nn.CrossEntropyLoss()\n",
    "optimizer = nn.Adam(model.trainable_params(), learning_rate=0.001)"
   ]
  },
  {
   "cell_type": "code",
   "execution_count": 9,
   "id": "suspended-shuttle",
   "metadata": {},
   "outputs": [],
   "source": [
    "def forward(inputs, targets):\n",
    "    logits = model(inputs)\n",
    "    loss = criterion(logits, targets)\n",
    "    return loss"
   ]
  },
  {
   "cell_type": "code",
   "execution_count": 10,
   "id": "6d65e68d",
   "metadata": {},
   "outputs": [],
   "source": [
    "grad_fn = ops.value_and_grad(forward, None, optimizer.parameters)"
   ]
  },
  {
   "cell_type": "code",
   "execution_count": 11,
   "id": "da270df2",
   "metadata": {},
   "outputs": [],
   "source": [
    "@ms_function\n",
    "def train_step(inputs, targets):\n",
    "    loss, grads = grad_fn(inputs, targets)\n",
    "    optimizer(grads)\n",
    "    return loss"
   ]
  },
  {
   "cell_type": "code",
   "execution_count": 12,
   "id": "sublime-exercise",
   "metadata": {},
   "outputs": [
    {
     "name": "stdout",
     "output_type": "stream",
     "text": [
      "Epoch: 0100 cost =  1.123684\n",
      "Epoch: 0200 cost =  0.125290\n",
      "Epoch: 0300 cost =  0.027129\n",
      "Epoch: 0400 cost =  0.010317\n",
      "Epoch: 0500 cost =  0.005415\n",
      "Epoch: 0600 cost =  0.003387\n",
      "Epoch: 0700 cost =  0.002342\n",
      "Epoch: 0800 cost =  0.001727\n",
      "Epoch: 0900 cost =  0.001330\n",
      "Epoch: 1000 cost =  0.001058\n"
     ]
    }
   ],
   "source": [
    "model.set_train()\n",
    "# Training\n",
    "epoch = 1000\n",
    "for step in range(epoch):\n",
    "    loss = train_step(input_batch, target_batch)\n",
    "    if (step + 1) % 100 == 0:\n",
    "        print('Epoch:', '%04d' % (step + 1), 'cost = ', '{:.6f}'.format(loss.asnumpy()))"
   ]
  },
  {
   "cell_type": "code",
   "execution_count": 13,
   "id": "seven-tunisia",
   "metadata": {},
   "outputs": [],
   "source": [
    "inputs = [sen[:3] for sen in seq_data]"
   ]
  },
  {
   "cell_type": "code",
   "execution_count": 14,
   "id": "norwegian-mounting",
   "metadata": {},
   "outputs": [
    {
     "name": "stdout",
     "output_type": "stream",
     "text": [
      "['mak', 'nee', 'coa', 'wor', 'lov', 'hat', 'liv', 'hom', 'has', 'sta'] -> ['e', 'd', 'l', 'd', 'e', 'e', 'e', 'e', 'h', 'r']\n"
     ]
    }
   ],
   "source": [
    "predict = model(input_batch).asnumpy().argmax(axis=1)\n",
    "print(inputs, '->', [number_dict[n.item()] for n in predict.squeeze()])"
   ]
  }
 ],
 "metadata": {
  "kernelspec": {
   "display_name": "Python 3.7.13 ('ms1.8')",
   "language": "python",
   "name": "python3"
  },
  "language_info": {
   "codemirror_mode": {
    "name": "ipython",
    "version": 3
   },
   "file_extension": ".py",
   "mimetype": "text/x-python",
   "name": "python",
   "nbconvert_exporter": "python",
   "pygments_lexer": "ipython3",
   "version": "3.7.13"
  },
  "vscode": {
   "interpreter": {
    "hash": "bd0943702584cdb580f8947884f31a9fb49482f77f8c89ed6532de3aa180e7ba"
   }
  }
 },
 "nbformat": 4,
 "nbformat_minor": 5
}
